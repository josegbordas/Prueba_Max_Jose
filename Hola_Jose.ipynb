{
 "cells": [
  {
   "cell_type": "code",
   "execution_count": null,
   "metadata": {},
   "outputs": [],
   "source": [
    "print('Hola_Jose')\n",
    "print('Hola_Jose')\n",
    "print('Hola_Jose')\n",
    "print('Hola_Jose')\n",
    "print('Hola_Jose')\n"
   ]
  }
 ],
 "metadata": {
  "language_info": {
   "name": "python"
  },
  "orig_nbformat": 4
 },
 "nbformat": 4,
 "nbformat_minor": 2
}
